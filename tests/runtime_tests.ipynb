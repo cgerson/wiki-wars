{
 "cells": [
  {
   "cell_type": "markdown",
   "metadata": {},
   "source": [
    "###Purpose: evaluate mean runtime to collect links per page.\n",
    "\n",
    "Explore distribution of:\n",
    "\n",
    "-number of links per article linked on chosen page  \n",
    "-number of words per article linked on chosen page  \n",
    "-runtime collecting links per article linked on chosen page  \n",
    "-runtime per link  "
   ]
  },
  {
   "cell_type": "code",
   "execution_count": 176,
   "metadata": {
    "collapsed": false
   },
   "outputs": [],
   "source": [
    "from wiki_wars import pageObject\n",
    "import sys\n",
    "import time\n",
    "import numpy as np\n",
    "import statsmodels.api as sm\n",
    "import pandas as pd\n",
    "\n",
    "import matplotlib.pyplot as plt\n",
    "%matplotlib inline"
   ]
  },
  {
   "cell_type": "code",
   "execution_count": 178,
   "metadata": {
    "collapsed": true
   },
   "outputs": [],
   "source": [
    "chosen_page = \"Affenpinscher\""
   ]
  },
  {
   "cell_type": "code",
   "execution_count": 179,
   "metadata": {
    "collapsed": true
   },
   "outputs": [],
   "source": [
    "def links_and_words(keyword):\n",
    "    \n",
    "    '''\n",
    "    - Return a set of links that appear on a given keyword's Wikipedia page\n",
    "    - Return the number of words in a given keyword's Wikipedia page\n",
    "    - Return runtime involved to return all links that appear on a given keyword's Wikipedia page\n",
    "    \n",
    "    '''\n",
    "\n",
    "    page_object = pageObject(keyword)\n",
    "\n",
    "    t = time.time()\n",
    "    set_links = set(page_object.return_links()) #collect links\n",
    "    runtime = time.time() - t\n",
    "    \n",
    "    list_words = page_object.return_filtered_words() #collect words\n",
    "    \n",
    "    return set_links,len(list_words),runtime #return to traverse through"
   ]
  },
  {
   "cell_type": "code",
   "execution_count": 180,
   "metadata": {
    "collapsed": false
   },
   "outputs": [
    {
     "name": "stdout",
     "output_type": "stream",
     "text": [
      "Runtime: 81.65 seconds\n"
     ]
    }
   ],
   "source": [
    "t = time.time()\n",
    "\n",
    "set_links,_,_ = links_and_words(chosen_page)\n",
    "\n",
    "l = []\n",
    "w = []\n",
    "r = []\n",
    "\n",
    "for meta_keyword in set_links:\n",
    "\n",
    "    meta_set_links,num_words,runtime = links_and_words(meta_keyword)\n",
    "    \n",
    "    l.append(len(meta_set_links))\n",
    "    w.append(num_words)\n",
    "    r.append(runtime)\n",
    "    \n",
    "print \"Runtime: {0:.2f} seconds\".format(time.time()-t)"
   ]
  },
  {
   "cell_type": "code",
   "execution_count": 181,
   "metadata": {
    "collapsed": false
   },
   "outputs": [
    {
     "name": "stdout",
     "output_type": "stream",
     "text": [
      "Size - runtime: 103\n",
      "Size - links: 103\n",
      "Size - words: 103\n"
     ]
    }
   ],
   "source": [
    "print \"Size - runtime: {0}\".format(len(r))\n",
    "print \"Size - links: {0}\".format(len(w))\n",
    "print \"Size - words: {0}\".format(len(l))"
   ]
  },
  {
   "cell_type": "code",
   "execution_count": 182,
   "metadata": {
    "collapsed": false
   },
   "outputs": [
    {
     "data": {
      "text/plain": [
       "<matplotlib.text.Text at 0x11d194bd0>"
      ]
     },
     "execution_count": 182,
     "metadata": {},
     "output_type": "execute_result"
    },
    {
     "data": {
      "image/png": "[encoded data removed]",
      "text/plain": [
       "<matplotlib.figure.Figure at 0x11ac4b190>"
      ]
     },
     "metadata": {},
     "output_type": "display_data"
    }
   ],
   "source": [
    "#plot number of links per page vs number of words\n",
    "#plot number of links per page vs runtime to collect links\n",
    "\n",
    "fig, ax1 = plt.subplots()\n",
    "ax1.scatter(l, w, alpha=.3, label='num_words')\n",
    "ax1.set_xlabel('num_links per page')\n",
    "ax1.set_ylabel('num_words', color='b')\n",
    "\n",
    "ax2 = ax1.twinx()\n",
    "ax2.scatter(l, r, color = 'r', alpha=.3, label='runtime')\n",
    "ax2.set_ylabel('runtime', color='r')\n",
    "\n",
    "ax1.set_ylim(-200,12000)\n",
    "ax2.set_ylim(0,5)\n",
    "\n",
    "title = \"Number of links per page vs number of words per page \\\n",
    "and runtime to collect links\\nStarting page: {}\\n\".format(chosen_page)\n",
    "\n",
    "plt.title(title)"
   ]
  },
  {
   "cell_type": "code",
   "execution_count": 183,
   "metadata": {
    "collapsed": false
   },
   "outputs": [
    {
     "data": {
      "text/html": [
       "<div>\n",
       "<table border=\"1\" class=\"dataframe\">\n",
       "  <thead>\n",
       "    <tr style=\"text-align: right;\">\n",
       "      <th></th>\n",
       "      <th>num_words</th>\n",
       "      <th>num_runtime</th>\n",
       "      <th>num_links</th>\n",
       "      <th>runtime/link</th>\n",
       "    </tr>\n",
       "  </thead>\n",
       "  <tbody>\n",
       "    <tr>\n",
       "      <th>0</th>\n",
       "      <td>89</td>\n",
       "      <td>0.290098</td>\n",
       "      <td>154</td>\n",
       "      <td>0.001884</td>\n",
       "    </tr>\n",
       "    <tr>\n",
       "      <th>1</th>\n",
       "      <td>826</td>\n",
       "      <td>0.389303</td>\n",
       "      <td>218</td>\n",
       "      <td>0.001786</td>\n",
       "    </tr>\n",
       "    <tr>\n",
       "      <th>2</th>\n",
       "      <td>1101</td>\n",
       "      <td>0.399879</td>\n",
       "      <td>126</td>\n",
       "      <td>0.003174</td>\n",
       "    </tr>\n",
       "    <tr>\n",
       "      <th>3</th>\n",
       "      <td>339</td>\n",
       "      <td>0.331710</td>\n",
       "      <td>161</td>\n",
       "      <td>0.002060</td>\n",
       "    </tr>\n",
       "    <tr>\n",
       "      <th>4</th>\n",
       "      <td>838</td>\n",
       "      <td>0.246782</td>\n",
       "      <td>75</td>\n",
       "      <td>0.003290</td>\n",
       "    </tr>\n",
       "  </tbody>\n",
       "</table>\n",
       "</div>"
      ],
      "text/plain": [
       "   num_words  num_runtime  num_links  runtime/link\n",
       "0         89     0.290098        154      0.001884\n",
       "1        826     0.389303        218      0.001786\n",
       "2       1101     0.399879        126      0.003174\n",
       "3        339     0.331710        161      0.002060\n",
       "4        838     0.246782         75      0.003290"
      ]
     },
     "execution_count": 183,
     "metadata": {},
     "output_type": "execute_result"
    }
   ],
   "source": [
    "#convert data into pandas dataframe\n",
    "#create field 'runtime/link' to measure runtime per link\n",
    "\n",
    "df = pd.DataFrame(np.column_stack((w,r,l)))\n",
    "df.columns = ['num_words','num_runtime','num_links']\n",
    "df['runtime/link'] = df.apply(lambda row: row['num_runtime']/row['num_links'], axis=1)\n",
    "df.head()"
   ]
  },
  {
   "cell_type": "code",
   "execution_count": 184,
   "metadata": {
    "collapsed": false
   },
   "outputs": [
    {
     "data": {
      "text/plain": [
       "count    103.000000\n",
       "mean       0.405821\n",
       "std        0.372822\n",
       "min        0.150635\n",
       "25%        0.238497\n",
       "50%        0.266413\n",
       "75%        0.387560\n",
       "max        2.465975\n",
       "Name: num_runtime, dtype: float64"
      ]
     },
     "execution_count": 184,
     "metadata": {},
     "output_type": "execute_result"
    }
   ],
   "source": [
    "#describe runtime\n",
    "df['num_runtime'].describe()"
   ]
  },
  {
   "cell_type": "code",
   "execution_count": 185,
   "metadata": {
    "collapsed": false
   },
   "outputs": [
    {
     "data": {
      "text/plain": [
       "<matplotlib.axes._subplots.AxesSubplot at 0x11ac4b9d0>"
      ]
     },
     "execution_count": 185,
     "metadata": {},
     "output_type": "execute_result"
    },
    {
     "data": {
      "image/png": "[encoded data removed]",
      "text/plain": [
       "<matplotlib.figure.Figure at 0x11d03fb90>"
      ]
     },
     "metadata": {},
     "output_type": "display_data"
    }
   ],
   "source": [
    "#distribution of runtime to collect links\n",
    "df['num_runtime'].hist(bins=100)"
   ]
  },
  {
   "cell_type": "code",
   "execution_count": 186,
   "metadata": {
    "collapsed": false
   },
   "outputs": [
    {
     "data": {
      "text/plain": [
       "count     103.000000\n",
       "mean      177.097087\n",
       "std       255.824906\n",
       "min         4.000000\n",
       "25%        83.000000\n",
       "50%       126.000000\n",
       "75%       168.000000\n",
       "max      1899.000000\n",
       "Name: num_links, dtype: float64"
      ]
     },
     "execution_count": 186,
     "metadata": {},
     "output_type": "execute_result"
    }
   ],
   "source": [
    "#describe number of links\n",
    "#mean number of links is 371.6\n",
    "df['num_links'].describe()"
   ]
  },
  {
   "cell_type": "code",
   "execution_count": 187,
   "metadata": {
    "collapsed": false
   },
   "outputs": [
    {
     "data": {
      "text/plain": [
       "<matplotlib.axes._subplots.AxesSubplot at 0x11cafcb10>"
      ]
     },
     "execution_count": 187,
     "metadata": {},
     "output_type": "execute_result"
    },
    {
     "data": {
      "image/png": "[encoded data removed]",
      "text/plain": [
       "<matplotlib.figure.Figure at 0x11d03fc90>"
      ]
     },
     "metadata": {},
     "output_type": "display_data"
    }
   ],
   "source": [
    "#distribution of number of links\n",
    "df['num_links'].hist(bins=100)"
   ]
  },
  {
   "cell_type": "code",
   "execution_count": 188,
   "metadata": {
    "collapsed": false
   },
   "outputs": [
    {
     "data": {
      "text/plain": [
       "count     103.000000\n",
       "mean      983.456311\n",
       "std      1242.866538\n",
       "min        34.000000\n",
       "25%       293.000000\n",
       "50%       668.000000\n",
       "75%      1100.500000\n",
       "max      8956.000000\n",
       "Name: num_words, dtype: float64"
      ]
     },
     "execution_count": 188,
     "metadata": {},
     "output_type": "execute_result"
    }
   ],
   "source": [
    "#describe # of words\n",
    "df['num_words'].describe()"
   ]
  },
  {
   "cell_type": "code",
   "execution_count": 189,
   "metadata": {
    "collapsed": false
   },
   "outputs": [
    {
     "data": {
      "text/plain": [
       "<matplotlib.axes._subplots.AxesSubplot at 0x12187a990>"
      ]
     },
     "execution_count": 189,
     "metadata": {},
     "output_type": "execute_result"
    },
    {
     "data": {
      "image/png": "[encoded data removed]",
      "text/plain": [
       "<matplotlib.figure.Figure at 0x11ec5ad10>"
      ]
     },
     "metadata": {},
     "output_type": "display_data"
    }
   ],
   "source": [
    "#distribution of number of words\n",
    "df['num_words'].hist(bins=100)"
   ]
  },
  {
   "cell_type": "code",
   "execution_count": 190,
   "metadata": {
    "collapsed": false
   },
   "outputs": [
    {
     "data": {
      "text/plain": [
       "count    103.000000\n",
       "mean       0.003901\n",
       "std        0.006667\n",
       "min        0.001245\n",
       "25%        0.001879\n",
       "50%        0.002509\n",
       "75%        0.003387\n",
       "max        0.061500\n",
       "Name: runtime/link, dtype: float64"
      ]
     },
     "execution_count": 190,
     "metadata": {},
     "output_type": "execute_result"
    }
   ],
   "source": [
    "#mean runtime per link is .0034s\n",
    "df['runtime/link'].describe()"
   ]
  },
  {
   "cell_type": "code",
   "execution_count": 191,
   "metadata": {
    "collapsed": false
   },
   "outputs": [
    {
     "data": {
      "text/plain": [
       "<matplotlib.axes._subplots.AxesSubplot at 0x11f172150>"
      ]
     },
     "execution_count": 191,
     "metadata": {},
     "output_type": "execute_result"
    },
    {
     "data": {
      "image/png": "[encoded data removed]",
      "text/plain": [
       "<matplotlib.figure.Figure at 0x11f17c950>"
      ]
     },
     "metadata": {},
     "output_type": "display_data"
    }
   ],
   "source": [
    "#distribution of runtime per link\n",
    "df['runtime/link'].hist(bins=100)"
   ]
  },
  {
   "cell_type": "code",
   "execution_count": null,
   "metadata": {
    "collapsed": true
   },
   "outputs": [],
   "source": []
  }
 ],
 "metadata": {
  "kernelspec": {
   "display_name": "Python 2",
   "language": "python",
   "name": "python2"
  },
  "language_info": {
   "codemirror_mode": {
    "name": "ipython",
    "version": 2
   },
   "file_extension": ".py",
   "mimetype": "text/x-python",
   "name": "python",
   "nbconvert_exporter": "python",
   "pygments_lexer": "ipython2",
   "version": "2.7.10"
  }
 },
 "nbformat": 4,
 "nbformat_minor": 0
}
