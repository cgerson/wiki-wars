{
 "cells": [
  {
   "cell_type": "markdown",
   "metadata": {},
   "source": [
    "###Purpose: Compare my scraping script to wiki API python library mwclient\n",
    "\n",
    "####Conclusion1: Number of links per page differs between both methods\n",
    "\n",
    "####Conclusion2: API returns more links because my scraping method filters out reference pages"
   ]
  },
  {
   "cell_type": "code",
   "execution_count": 61,
   "metadata": {
    "collapsed": true
   },
   "outputs": [],
   "source": [
    "import mwclient\n",
    "from wiki_wars import pageObject\n",
    "\n",
    "useragent = 'YourBot, based on mwclient v0.7.2. Run by User:Claire, clairegerson@gmail.com'\n",
    "site = mwclient.Site(('https', 'en.wikipedia.org'), clients_useragent=useragent)"
   ]
  },
  {
   "cell_type": "code",
   "execution_count": 92,
   "metadata": {
    "collapsed": true
   },
   "outputs": [],
   "source": [
    "chosen_page = 'Los_Angeles'"
   ]
  },
  {
   "cell_type": "markdown",
   "metadata": {},
   "source": [
    "####MWCLIENT - API"
   ]
  },
  {
   "cell_type": "code",
   "execution_count": 93,
   "metadata": {
    "collapsed": false
   },
   "outputs": [
    {
     "name": "stdout",
     "output_type": "stream",
     "text": [
      "CPU times: user 3 µs, sys: 1e+03 ns, total: 4 µs\n",
      "Wall time: 7.87 µs\n",
      "Links on Los_Angeles page using mwclient: 1513\n"
     ]
    }
   ],
   "source": [
    "%time\n",
    "#create generator of links on Spain page\n",
    "page = site.Pages[chosen_page]\n",
    "links_api = page.links()\n",
    "\n",
    "#count elements in generator object\n",
    "print \"Links on {0} page using mwclient: {1}\".format(chosen_page,sum(1 for i in links_api))"
   ]
  },
  {
   "cell_type": "markdown",
   "metadata": {},
   "source": [
    "####PAGEOBJECT - SCRAPE"
   ]
  },
  {
   "cell_type": "code",
   "execution_count": 94,
   "metadata": {
    "collapsed": false
   },
   "outputs": [
    {
     "name": "stdout",
     "output_type": "stream",
     "text": [
      "CPU times: user 4 µs, sys: 1e+03 ns, total: 5 µs\n",
      "Wall time: 8.11 µs\n",
      "Links on Los_Angeles page using my script: 1231\n"
     ]
    }
   ],
   "source": [
    "%time\n",
    "#instantiate pageObject object \n",
    "page_object = pageObject(chosen_page)\n",
    "\n",
    "#return links on Spain page\n",
    "links_wikiwars = set(page_object.return_links())\n",
    "print \"Links on {0} page using my script: {1}\".format(chosen_page,len(links_wikiwars))"
   ]
  },
  {
   "cell_type": "code",
   "execution_count": null,
   "metadata": {
    "collapsed": true
   },
   "outputs": [],
   "source": []
  }
 ],
 "metadata": {
  "kernelspec": {
   "display_name": "Python 2",
   "language": "python",
   "name": "python2"
  },
  "language_info": {
   "codemirror_mode": {
    "name": "ipython",
    "version": 2
   },
   "file_extension": ".py",
   "mimetype": "text/x-python",
   "name": "python",
   "nbconvert_exporter": "python",
   "pygments_lexer": "ipython2",
   "version": "2.7.10"
  }
 },
 "nbformat": 4,
 "nbformat_minor": 0
}
